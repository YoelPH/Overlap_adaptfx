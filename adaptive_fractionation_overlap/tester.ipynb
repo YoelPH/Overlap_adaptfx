{
 "cells": [
  {
   "cell_type": "code",
   "execution_count": 1,
   "id": "b9aca8b5",
   "metadata": {},
   "outputs": [
    {
     "ename": "ValueError",
     "evalue": "too many values to unpack (expected 9)",
     "output_type": "error",
     "traceback": [
      "\u001b[0;31m---------------------------------------------------------------------------\u001b[0m",
      "\u001b[0;31mValueError\u001b[0m                                Traceback (most recent call last)",
      "Cell \u001b[0;32mIn[1], line 4\u001b[0m\n\u001b[1;32m      1\u001b[0m \u001b[38;5;28;01mimport\u001b[39;00m\u001b[38;5;250m \u001b[39m\u001b[38;5;21;01mcore_adaptfx\u001b[39;00m\u001b[38;5;250m \u001b[39m\u001b[38;5;28;01mas\u001b[39;00m\u001b[38;5;250m \u001b[39m\u001b[38;5;21;01maf\u001b[39;00m\n\u001b[1;32m      2\u001b[0m \u001b[38;5;28;01mimport\u001b[39;00m\u001b[38;5;250m \u001b[39m\u001b[38;5;21;01mnumpy\u001b[39;00m\u001b[38;5;250m \u001b[39m\u001b[38;5;28;01mas\u001b[39;00m\u001b[38;5;250m \u001b[39m\u001b[38;5;21;01mnp\u001b[39;00m\n\u001b[0;32m----> 4\u001b[0m physical_doses, accumulated_doses, total_penalty \u001b[38;5;241m=\u001b[39m \u001b[43maf\u001b[49m\u001b[38;5;241;43m.\u001b[39;49m\u001b[43madaptfx_full\u001b[49m\u001b[43m(\u001b[49m\u001b[43mnp\u001b[49m\u001b[38;5;241;43m.\u001b[39;49m\u001b[43marray\u001b[49m\u001b[43m(\u001b[49m\u001b[43m[\u001b[49m\u001b[38;5;241;43m9.08\u001b[39;49m\u001b[43m,\u001b[49m\u001b[38;5;241;43m19.79\u001b[39;49m\u001b[43m,\u001b[49m\u001b[38;5;241;43m6.02\u001b[39;49m\u001b[43m,\u001b[49m\u001b[38;5;241;43m9.45\u001b[39;49m\u001b[43m,\u001b[49m\u001b[38;5;241;43m19.59\u001b[39;49m\u001b[43m,\u001b[49m\u001b[38;5;241;43m12.62\u001b[39;49m\u001b[43m]\u001b[49m\u001b[43m)\u001b[49m\u001b[43m,\u001b[49m\u001b[38;5;241;43m5\u001b[39;49m\u001b[43m,\u001b[49m\u001b[38;5;241;43m0.5\u001b[39;49m\u001b[43m,\u001b[49m\u001b[38;5;241;43m0.5\u001b[39;49m\u001b[43m,\u001b[49m\u001b[38;5;241;43m6\u001b[39;49m\u001b[43m,\u001b[49m\u001b[38;5;241;43m10\u001b[39;49m\u001b[43m,\u001b[49m\u001b[38;5;241;43m7\u001b[39;49m\u001b[43m,\u001b[49m\u001b[38;5;241;43m0.25\u001b[39;49m\u001b[43m)\u001b[49m\n",
      "File \u001b[0;32m/home/yoel/Documents/Adaptive_fractionation/Overlap_adaptfx/adaptive_fractionation_overlap/core_adaptfx.py:185\u001b[0m, in \u001b[0;36madaptfx_full\u001b[0;34m(volumes, number_of_fractions, steepness_penalty, steepness_benefit, min_dose, max_dose, mean_dose, dose_steps, alpha, beta, minimum_benefit)\u001b[0m\n\u001b[1;32m    183\u001b[0m \u001b[38;5;28;01mfor\u001b[39;00m index, frac \u001b[38;5;129;01min\u001b[39;00m \u001b[38;5;28menumerate\u001b[39m(\u001b[38;5;28mrange\u001b[39m(\u001b[38;5;241m1\u001b[39m,number_of_fractions \u001b[38;5;241m+\u001b[39m\u001b[38;5;241m1\u001b[39m)):\n\u001b[1;32m    184\u001b[0m     \u001b[38;5;28;01mif\u001b[39;00m frac \u001b[38;5;241m!=\u001b[39m number_of_fractions:\n\u001b[0;32m--> 185\u001b[0m         [policies, policies_overlap, volume_space, physical_dose, penalty_added, values, dose_space, probabilities, final_penalty]  \u001b[38;5;241m=\u001b[39m adaptive_fractionation_core(fraction \u001b[38;5;241m=\u001b[39m frac, volumes \u001b[38;5;241m=\u001b[39m volumes[:\u001b[38;5;241m-\u001b[39mnumber_of_fractions\u001b[38;5;241m+\u001b[39mfrac], accumulated_dose \u001b[38;5;241m=\u001b[39m accumulated_doses[index], steepness_penalty \u001b[38;5;241m=\u001b[39m steepness_penalty, steepness_benefit\u001b[38;5;241m=\u001b[39m steepness_benefit, number_of_fractions\u001b[38;5;241m=\u001b[39m number_of_fractions, min_dose \u001b[38;5;241m=\u001b[39m min_dose, max_dose \u001b[38;5;241m=\u001b[39m max_dose, mean_dose \u001b[38;5;241m=\u001b[39m mean_dose, dose_steps \u001b[38;5;241m=\u001b[39m dose_steps, alpha \u001b[38;5;241m=\u001b[39m alpha, beta \u001b[38;5;241m=\u001b[39m beta, minimum_benefit \u001b[38;5;241m=\u001b[39m minimum_benefit)\n\u001b[1;32m    186\u001b[0m         accumulated_doses[index\u001b[38;5;241m+\u001b[39m\u001b[38;5;241m1\u001b[39m] \u001b[38;5;241m=\u001b[39m accumulated_doses[index] \u001b[38;5;241m+\u001b[39m physical_dose\n\u001b[1;32m    187\u001b[0m     \u001b[38;5;28;01melse\u001b[39;00m:\n",
      "\u001b[0;31mValueError\u001b[0m: too many values to unpack (expected 9)"
     ]
    }
   ],
   "source": [
    "import core_adaptfx as af\n",
    "import numpy as np\n",
    "\n",
    "physical_doses, accumulated_doses, total_penalty = af.adaptfx_full(np.array([9.08,19.79,6.02,9.45,19.59,12.62]),5,0.5,0.5,6,10,7,0.25)"
   ]
  },
  {
   "cell_type": "code",
   "execution_count": 5,
   "id": "79993c17",
   "metadata": {},
   "outputs": [],
   "source": [
    "policies, policies_overlap, volume_space, physical_dose, penalty_added, values, dose_space, probabilities, final_penalty, actual_values = af.adaptive_fractionation_core(3,np.array([9.08,19.79,6.02,9.45]),16,0.5,0.5,5,6,10,7)"
   ]
  },
  {
   "cell_type": "code",
   "execution_count": 9,
   "id": "687cbe22",
   "metadata": {},
   "outputs": [
    {
     "data": {
      "text/plain": [
       "7.0"
      ]
     },
     "execution_count": 9,
     "metadata": {},
     "output_type": "execute_result"
    }
   ],
   "source": [
    "physical_dose"
   ]
  },
  {
   "cell_type": "code",
   "execution_count": 10,
   "id": "d60adf17",
   "metadata": {},
   "outputs": [
    {
     "data": {
      "text/plain": [
       "4"
      ]
     },
     "execution_count": 10,
     "metadata": {},
     "output_type": "execute_result"
    }
   ],
   "source": [
    "actual_values.argmax()"
   ]
  },
  {
   "cell_type": "code",
   "execution_count": 18,
   "id": "786ff48f",
   "metadata": {},
   "outputs": [
    {
     "data": {
      "text/plain": [
       "-8.951422524302536"
      ]
     },
     "execution_count": 18,
     "metadata": {},
     "output_type": "execute_result"
    }
   ],
   "source": [
    "actual_values[4]"
   ]
  },
  {
   "cell_type": "code",
   "execution_count": null,
   "id": "f952bf86",
   "metadata": {},
   "outputs": [
    {
     "data": {
      "text/plain": [
       "4"
      ]
     },
     "execution_count": 12,
     "metadata": {},
     "output_type": "execute_result"
    }
   ],
   "source": [
    "values_actual_frac[73].argmax()"
   ]
  }
 ],
 "metadata": {
  "kernelspec": {
   "display_name": ".venv",
   "language": "python",
   "name": "python3"
  },
  "language_info": {
   "codemirror_mode": {
    "name": "ipython",
    "version": 3
   },
   "file_extension": ".py",
   "mimetype": "text/x-python",
   "name": "python",
   "nbconvert_exporter": "python",
   "pygments_lexer": "ipython3",
   "version": "3.10.12"
  }
 },
 "nbformat": 4,
 "nbformat_minor": 5
}
