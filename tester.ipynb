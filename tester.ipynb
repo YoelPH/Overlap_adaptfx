{
 "cells": [
  {
   "cell_type": "code",
   "execution_count": 41,
   "id": "84db9b3e",
   "metadata": {},
   "outputs": [],
   "source": [
    "import sys\n",
    "import os\n",
    "import numpy as np\n",
    "\n",
    "sys.path.append(os.path.abspath('adaptive_fractionation_overlap'))"
   ]
  },
  {
   "cell_type": "code",
   "execution_count": null,
   "id": "95d3f0c7",
   "metadata": {},
   "outputs": [],
   "source": [
    "from helper_functions import std_calc\n",
    "from helper_functions import get_state_space\n",
    "from helper_functions import probdist\n",
    "from helper_functions import max_action\n",
    "from helper_functions import penalty_calc_single\n",
    "from helper_functions import penalty_calc_matrix\n",
    "from helper_functions import penalty_calc_single_volume\n",
    "\n"
   ]
  },
  {
   "cell_type": "code",
   "execution_count": 16,
   "id": "5e06ebf2",
   "metadata": {},
   "outputs": [],
   "source": [
    "delivered_doses = np.arange(6,10 + 0.01,0.25) #spans the action space of all deliverable doses\n",
    "mean_dose = 7\n",
    "steepness = -0.5"
   ]
  },
  {
   "cell_type": "code",
   "execution_count": 40,
   "id": "89eb547f",
   "metadata": {},
   "outputs": [
    {
     "data": {
      "text/plain": [
       "96.0"
      ]
     },
     "execution_count": 40,
     "metadata": {},
     "output_type": "execute_result"
    }
   ],
   "source": [
    "penalty_calc_single(30, 6, mean_dose, 10, steepness)"
   ]
  },
  {
   "cell_type": "code",
   "execution_count": null,
   "id": "f759226e",
   "metadata": {},
   "outputs": [],
   "source": [
    "penalty_calc_matrix(delivered_doses, mean_dose, steepness)"
   ]
  }
 ],
 "metadata": {
  "kernelspec": {
   "display_name": "Python 3",
   "language": "python",
   "name": "python3"
  },
  "language_info": {
   "codemirror_mode": {
    "name": "ipython",
    "version": 3
   },
   "file_extension": ".py",
   "mimetype": "text/x-python",
   "name": "python",
   "nbconvert_exporter": "python",
   "pygments_lexer": "ipython3",
   "version": "3.11.9"
  }
 },
 "nbformat": 4,
 "nbformat_minor": 5
}
