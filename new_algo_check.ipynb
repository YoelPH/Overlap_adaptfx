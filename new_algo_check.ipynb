{
 "cells": [
  {
   "cell_type": "markdown",
   "metadata": {},
   "source": [
    "# In this file we will evaluate the DVHs for the first three patients"
   ]
  },
  {
   "cell_type": "code",
   "execution_count": 1,
   "metadata": {},
   "outputs": [],
   "source": [
    "import pandas as pd\n",
    "import numpy as np\n",
    "import matplotlib.pyplot as plt\n",
    "fraction_dictionary = {\n",
    "    '1a': 0,\n",
    "    '1aA': 1,\n",
    "    '1aB': 2,\n",
    "    '1aC': 3,\n",
    "    '1aD': 4,\n",
    "    '1aE': 5,\n",
    "}"
   ]
  },
  {
   "cell_type": "markdown",
   "metadata": {},
   "source": [
    "## use steepness"
   ]
  },
  {
   "cell_type": "code",
   "execution_count": 4,
   "metadata": {},
   "outputs": [
    {
     "name": "stdout",
     "output_type": "stream",
     "text": [
      "steepness for 9.08 = 6.562504000000001\n",
      "steepness for 19.79 = 13.524004\n",
      "steepness for 6.02 = 4.573504\n",
      "steepness for 9.45 = 6.803004\n",
      "steepness for 19.59 = 13.394004\n",
      "steepness for 12.62 = 8.863503999999999\n",
      "0 6.5\n",
      "penalty 11.5855005\n",
      "1 7.5\n",
      "penalty 14.175192\n",
      "2 6.5\n",
      "penalty 5.5753755\n",
      "3 6.0\n",
      "penalty 0.0\n",
      "4 6.5\n",
      "penalty 7.4179379999999995\n",
      "-38.754006\n"
     ]
    }
   ],
   "source": [
    "import adaptive_fractionation_overlap as af\n",
    "intercept = -0.660504\n",
    "slope = -0.65\n",
    "for overlap in np.array([9.08,19.79,6.02,9.45,19.59,12.62]):\n",
    "    steepness = np.abs(intercept + slope * overlap)\n",
    "    print('steepness for', overlap, '=', steepness)\n",
    "doses, accum, penalty  = af.adaptfx_full(volumes = np.array([9.08,19.79,6.02,9.45,19.59,12.62]), number_of_fractions= 5, min_dose = 6, max_dose = 10, mean_dose = 6.6, dose_steps=0.5)\n",
    "print(penalty)"
   ]
  },
  {
   "cell_type": "code",
   "execution_count": 5,
   "metadata": {},
   "outputs": [],
   "source": [
    "def calculate_uniform_penalties(dose, overlaps, min_dose = 6):\n",
    "    penalties = []\n",
    "    for overlap in overlaps:\n",
    "        steepness = np.abs(intercept + slope * overlap)\n",
    "        penalty = af.penalty_calc_single(dose, min_dose, overlap, steepness)\n",
    "        penalties.append(penalty)\n",
    "    print(np.sum(penalties))\n",
    "    return np.array(penalties)\n"
   ]
  },
  {
   "cell_type": "code",
   "execution_count": 6,
   "metadata": {},
   "outputs": [
    {
     "name": "stdout",
     "output_type": "stream",
     "text": [
      "48.97044359999996\n"
     ]
    },
    {
     "data": {
      "text/plain": [
       "array([14.30832072,  4.43523072,  6.89454072, 14.16492072,  9.16743072])"
      ]
     },
     "execution_count": 6,
     "metadata": {},
     "output_type": "execute_result"
    }
   ],
   "source": [
    "calculate_uniform_penalties(dose=6.6, overlaps = np.array([19.79,6.02,9.45,19.59,12.62]))"
   ]
  }
 ],
 "metadata": {
  "kernelspec": {
   "display_name": "Python 3",
   "language": "python",
   "name": "python3"
  },
  "language_info": {
   "codemirror_mode": {
    "name": "ipython",
    "version": 3
   },
   "file_extension": ".py",
   "mimetype": "text/x-python",
   "name": "python",
   "nbconvert_exporter": "python",
   "pygments_lexer": "ipython3",
   "version": "3.11.9"
  }
 },
 "nbformat": 4,
 "nbformat_minor": 2
}
