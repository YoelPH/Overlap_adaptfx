{
 "cells": [
  {
   "cell_type": "markdown",
   "metadata": {},
   "source": [
    "# In this file we will evaluate the DVHs for the first three patients"
   ]
  },
  {
   "cell_type": "code",
   "execution_count": 1,
   "metadata": {},
   "outputs": [],
   "source": [
    "import pandas as pd\n",
    "import numpy as np\n",
    "import matplotlib.pyplot as plt\n",
    "fraction_dictionary = {\n",
    "    '1a': 0,\n",
    "    '1aA': 1,\n",
    "    '1aB': 2,\n",
    "    '1aC': 3,\n",
    "    '1aD': 4,\n",
    "    '1aE': 5,\n",
    "}"
   ]
  },
  {
   "cell_type": "markdown",
   "metadata": {},
   "source": [
    "## Code definition\n"
   ]
  },
  {
   "cell_type": "code",
   "execution_count": 26,
   "metadata": {},
   "outputs": [],
   "source": [
    "overlaps_3 = np.array([9.08,19.79,6.02,9.45,19.59,12.62])\n",
    "overlaps_14 = np.array([2.88,3.35,3.35,0.53,1.92,3.66])\n",
    "overlaps_18 = np.array([0.92, 0.83, 1.08, 1.91, 0.00, 0.58])\n",
    "overlaps_25 = np.array([0.41,0.44,0.75,0.00,0.00,0.38])\n",
    "overlaps_26 = np.array([2.11,2.14,0.87,3.57,2.59,1.91])\n",
    "overlaps_49 = np.array([4.27,5.91,3.28,3.87,4.18,8.36])\n",
    "\n",
    "overlaps = [overlaps_3, overlaps_14, overlaps_18, overlaps_25, overlaps_26, overlaps_49]\n",
    "\n",
    "prescribed_dose_3 = 33\n",
    "prescribed_dose_14 = 35\n",
    "prescribed_dose_18 = 35\n",
    "prescribed_dose_25 = 35\n",
    "prescribed_dose_26 = 35\n",
    "prescribed_dose_49 = 40\n",
    "\n",
    "prescribed_doses = [prescribed_dose_3, prescribed_dose_14, prescribed_dose_18, prescribed_dose_25, prescribed_dose_26, prescribed_dose_49]\n"
   ]
  },
  {
   "cell_type": "markdown",
   "metadata": {},
   "source": [
    "## use steepness"
   ]
  },
  {
   "cell_type": "code",
   "execution_count": 22,
   "metadata": {},
   "outputs": [
    {
     "name": "stdout",
     "output_type": "stream",
     "text": [
      "0 6.0\n",
      "benefit 2.434320719999997\n",
      "penalty 0.0\n",
      "1 8.0\n",
      "benefit 0\n",
      "penalty 16.522033920000002\n",
      "2 7.0\n",
      "benefit 0\n",
      "penalty 9.99424032\n",
      "3 6.0\n",
      "benefit 2.4109207199999974\n",
      "penalty 0.0\n",
      "4 6.0\n",
      "benefit 1.595430719999998\n",
      "penalty 0.0\n"
     ]
    }
   ],
   "source": [
    "import adaptive_fractionation_overlap as af\n",
    "intercept = -0.660504\n",
    "slope = -0.65\n",
    "\n",
    "doses, accum, total_penalty = af.adaptfx_full(volumes = overlaps_3, number_of_fractions= 5, min_dose = 6, max_dose = 10, mean_dose = prescribed_dose_3/5, dose_steps = 0.5)"
   ]
  },
  {
   "cell_type": "code",
   "execution_count": 23,
   "metadata": {},
   "outputs": [],
   "source": [
    "def penalty_calc_full(overlaps, dose, min_dose, mean_dose = None):\n",
    "    if mean_dose is None:\n",
    "        mean_dose = dose\n",
    "    penalties = []\n",
    "    for overlap in overlaps:\n",
    "        steepness = np.abs(intercept + slope * overlap)\n",
    "        penalty = -af.penalty_calc_single(dose, min_dose, mean_dose, overlap, steepness)\n",
    "        penalties.append(penalty)\n",
    "    print(np.sum(penalties))\n",
    "    return np.array(penalties)"
   ]
  },
  {
   "cell_type": "code",
   "execution_count": 24,
   "metadata": {},
   "outputs": [
    {
     "name": "stdout",
     "output_type": "stream",
     "text": [
      "-40.48199999999997\n"
     ]
    },
    {
     "data": {
      "text/plain": [
       "20.40639791999996"
      ]
     },
     "execution_count": 24,
     "metadata": {},
     "output_type": "execute_result"
    }
   ],
   "source": [
    "standard_penalties = penalty_calc_full(overlaps_3[1:], 6.6, 6)\n",
    "total_penalty - standard_penalties.sum()"
   ]
  },
  {
   "cell_type": "code",
   "execution_count": 30,
   "metadata": {},
   "outputs": [
    {
     "name": "stdout",
     "output_type": "stream",
     "text": [
      "0 6.0\n",
      "benefit 2.434320719999997\n",
      "penalty 0.0\n",
      "1 8.0\n",
      "benefit 0\n",
      "penalty 16.522033920000002\n",
      "2 7.0\n",
      "benefit 0\n",
      "penalty 9.99424032\n",
      "3 6.0\n",
      "benefit 2.4109207199999974\n",
      "penalty 0.0\n",
      "4 6.0\n",
      "benefit 1.595430719999998\n",
      "penalty 0.0\n",
      "-40.48199999999997\n",
      "0 6.0\n",
      "benefit 1.419002\n",
      "penalty 0.0\n",
      "1 6.0\n",
      "benefit 1.419002\n",
      "penalty 0.0\n",
      "2 9.5\n",
      "benefit 0\n",
      "penalty 4.9956375\n",
      "3 7.5\n",
      "benefit 0\n",
      "penalty 3.118563\n",
      "4 6.0\n",
      "benefit 1.519752\n",
      "penalty 0.0\n",
      "-12.81\n",
      "0 7.5\n",
      "benefit 0\n",
      "penalty 1.3950004999999999\n",
      "1 6.0\n",
      "benefit 0.681252\n",
      "penalty 0.0\n",
      "2 6.0\n",
      "benefit 0.951002\n",
      "penalty 0.0\n",
      "3 8.5\n",
      "benefit 0\n",
      "penalty 0.7430669999999999\n",
      "4 7.0\n",
      "benefit 0\n",
      "penalty 0.58\n",
      "-4.4\n",
      "0 6.0\n",
      "benefit 0.473252\n",
      "penalty 0.0\n",
      "1 6.0\n",
      "benefit 0.574002\n",
      "penalty 0.0\n",
      "2 8.0\n",
      "benefit 0\n",
      "penalty 0.330252\n",
      "3 8.0\n",
      "benefit 0\n",
      "penalty 0.330252\n",
      "4 7.0\n",
      "benefit 0\n",
      "penalty 0.38\n",
      "-1.5699999999999998\n",
      "0 6.0\n",
      "benefit 1.0257520000000002\n",
      "penalty 0.0\n",
      "1 8.0\n",
      "benefit 0\n",
      "penalty 2.353002\n",
      "2 6.0\n",
      "benefit 1.490502\n",
      "penalty 0.0\n",
      "3 7.5\n",
      "benefit 0\n",
      "penalty 4.1780005\n",
      "4 7.5\n",
      "benefit 0\n",
      "penalty 3.1027505\n",
      "-11.08\n",
      "0 6.0\n",
      "benefit 9.004008\n",
      "penalty 0.0\n",
      "1 9.5\n",
      "benefit 0\n",
      "penalty 14.621566999999999\n",
      "2 9.5\n",
      "benefit 0\n",
      "penalty 17.1180045\n",
      "3 9.0\n",
      "benefit 0\n",
      "penalty 14.228752\n",
      "4 6.0\n",
      "benefit 12.189008000000001\n",
      "penalty 0.0\n",
      "-51.199999999999996\n"
     ]
    }
   ],
   "source": [
    "benefits = []\n",
    "doses_all = []\n",
    "total_penalties = []\n",
    "for index in range(len(overlaps)):\n",
    "    doses, accum, total_penalty = af.adaptfx_full(volumes = overlaps[index], number_of_fractions= 5, min_dose = 6, max_dose = 10, mean_dose = prescribed_doses[index]/5, dose_steps = 0.5)\n",
    "    standard_penalties = penalty_calc_full(overlaps[index][1:], prescribed_doses[index]/5, 6)\n",
    "    benefits.append(total_penalty - standard_penalties.sum())\n",
    "    doses_all.append(doses)\n",
    "    total_penalties.append(total_penalty)\n"
   ]
  },
  {
   "cell_type": "code",
   "execution_count": 32,
   "metadata": {},
   "outputs": [
    {
     "data": {
      "text/plain": [
       "[array([6., 8., 7., 6., 6.]),\n",
       " array([6. , 6. , 9.5, 7.5, 6. ]),\n",
       " array([7.5, 6. , 6. , 8.5, 7. ]),\n",
       " array([6., 6., 8., 8., 7.]),\n",
       " array([6. , 8. , 6. , 7.5, 7.5]),\n",
       " array([6. , 9.5, 9.5, 9. , 6. ])]"
      ]
     },
     "execution_count": 32,
     "metadata": {},
     "output_type": "execute_result"
    }
   ],
   "source": [
    "doses_all"
   ]
  },
  {
   "cell_type": "code",
   "execution_count": 28,
   "metadata": {},
   "outputs": [
    {
     "data": {
      "text/plain": [
       "[20.40639791999996,\n",
       " 9.053555500000002,\n",
       " 3.314186500000001,\n",
       " 1.57675,\n",
       " 3.9625010000000005,\n",
       " 26.4246925]"
      ]
     },
     "execution_count": 28,
     "metadata": {},
     "output_type": "execute_result"
    }
   ],
   "source": [
    "benefits"
   ]
  }
 ],
 "metadata": {
  "kernelspec": {
   "display_name": ".venv",
   "language": "python",
   "name": "python3"
  },
  "language_info": {
   "codemirror_mode": {
    "name": "ipython",
    "version": 3
   },
   "file_extension": ".py",
   "mimetype": "text/x-python",
   "name": "python",
   "nbconvert_exporter": "python",
   "pygments_lexer": "ipython3",
   "version": "3.10.12"
  }
 },
 "nbformat": 4,
 "nbformat_minor": 2
}
