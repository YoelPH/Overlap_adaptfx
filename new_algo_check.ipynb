{
 "cells": [
  {
   "cell_type": "markdown",
   "metadata": {},
   "source": [
    "# In this file we will evaluate the DVHs for the first three patients"
   ]
  },
  {
   "cell_type": "code",
   "execution_count": 1,
   "metadata": {},
   "outputs": [],
   "source": [
    "import pandas as pd\n",
    "import numpy as np\n",
    "import matplotlib.pyplot as plt\n",
    "fraction_dictionary = {\n",
    "    '1a': 0,\n",
    "    '1aA': 1,\n",
    "    '1aB': 2,\n",
    "    '1aC': 3,\n",
    "    '1aD': 4,\n",
    "    '1aE': 5,\n",
    "}"
   ]
  },
  {
   "cell_type": "markdown",
   "metadata": {},
   "source": [
    "## Code definition\n"
   ]
  },
  {
   "cell_type": "code",
   "execution_count": 2,
   "metadata": {},
   "outputs": [],
   "source": [
    "def clean_dfs(dfs: list, overlaps:list, normalize_dose: bool = False):\n",
    "    column_names =['Dosis', 'PTV', 'GTV', 'STOMACH', 'DUODENUM', 'BOWEL']\n",
    "    PTV_volumes = []\n",
    "    GTV_volumes = []\n",
    "    STOMACH_volumes = []\n",
    "    DUODENUM_volumes = []\n",
    "    BOWEL_volumes = []\n",
    "    overlap_percentage = []\n",
    "    nested_lists = [PTV_volumes, GTV_volumes, STOMACH_volumes, DUODENUM_volumes, BOWEL_volumes]\n",
    "    for index, df in enumerate(dfs):\n",
    "        df.columns = df.columns.droplevel(0)\n",
    "        for column in df.columns:\n",
    "            for index_column, name in enumerate(column_names):\n",
    "                if name in column:\n",
    "                    df.rename(columns={column: name}, inplace=True)\n",
    "                    if index_column!=0:\n",
    "                        volume = float(column.split('Volumen:')[1].split('mL')[0].strip())\n",
    "                        df[name] = df[name]*volume/100\n",
    "                        if index%2 == 0:\n",
    "                            nested_lists[index_column-1].append(volume)\n",
    "                            if name == 'PTV':\n",
    "                                overlap_percentage.append(overlaps[int(np.floor(index/2))]/volume*100)\n",
    "        if normalize_dose:\n",
    "            df['Dosis'] = df['Dosis']/5\n",
    "        df.fillna(0, inplace=True)\n",
    "        for column in df.columns[1:]:\n",
    "            max_value = df[column].max()\n",
    "            df[column + '%'] = df[column] / max_value * 100\n",
    "    return dfs, overlap_percentage, PTV_volumes"
   ]
  },
  {
   "cell_type": "markdown",
   "metadata": {},
   "source": [
    "## use steepness"
   ]
  },
  {
   "cell_type": "code",
   "execution_count": 3,
   "metadata": {},
   "outputs": [
    {
     "name": "stdout",
     "output_type": "stream",
     "text": [
      "0 6.0\n",
      "benefit 1.595430719999998\n",
      "penalty 0.0\n",
      "1 7.75\n",
      "benefit 0\n",
      "penalty 16.39599202\n",
      "2 6.75\n",
      "benefit 0\n",
      "penalty 7.18721442\n",
      "3 6.0\n",
      "benefit 1.595430719999998\n",
      "penalty 0.0\n",
      "4 6.5\n",
      "benefit 0.04431751999999968\n",
      "penalty 6.31\n"
     ]
    },
    {
     "data": {
      "text/plain": [
       "(array([6.  , 7.75, 6.75, 6.  , 6.5 ]),\n",
       " array([ 0.  ,  6.  , 13.75, 20.5 , 26.5 ]),\n",
       " np.float64(-26.65802748))"
      ]
     },
     "execution_count": 3,
     "metadata": {},
     "output_type": "execute_result"
    }
   ],
   "source": [
    "import adaptive_fractionation_overlap as af\n",
    "intercept = -0.660504\n",
    "slope = -0.65\n",
    "\n",
    "af.adaptfx_full(volumes = np.array([9.08,19.79,6.02,9.45,19.59,12.62]), number_of_fractions= 5, min_dose = 6, max_dose = 10, mean_dose = 6.6)"
   ]
  }
 ],
 "metadata": {
  "kernelspec": {
   "display_name": ".venv",
   "language": "python",
   "name": "python3"
  },
  "language_info": {
   "codemirror_mode": {
    "name": "ipython",
    "version": 3
   },
   "file_extension": ".py",
   "mimetype": "text/x-python",
   "name": "python",
   "nbconvert_exporter": "python",
   "pygments_lexer": "ipython3",
   "version": "3.10.12"
  }
 },
 "nbformat": 4,
 "nbformat_minor": 2
}
