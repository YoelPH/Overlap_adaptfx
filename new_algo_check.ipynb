{
 "cells": [
  {
   "cell_type": "markdown",
   "metadata": {},
   "source": [
    "# In this file we will evaluate the DVHs for the first three patients"
   ]
  },
  {
   "cell_type": "code",
   "execution_count": 1,
   "metadata": {},
   "outputs": [],
   "source": [
    "import pandas as pd\n",
    "import numpy as np\n",
    "import matplotlib.pyplot as plt\n",
    "fraction_dictionary = {\n",
    "    '1a': 0,\n",
    "    '1aA': 1,\n",
    "    '1aB': 2,\n",
    "    '1aC': 3,\n",
    "    '1aD': 4,\n",
    "    '1aE': 5,\n",
    "}"
   ]
  },
  {
   "cell_type": "markdown",
   "metadata": {},
   "source": [
    "## use steepness"
   ]
  },
  {
   "cell_type": "code",
   "execution_count": null,
   "metadata": {},
   "outputs": [],
   "source": []
  },
  {
   "cell_type": "code",
   "execution_count": 5,
   "metadata": {},
   "outputs": [
    {
     "name": "stdout",
     "output_type": "stream",
     "text": [
      "steepness for 9.08 = 6.562504000000001\n",
      "steepness for 19.79 = 13.524004\n",
      "steepness for 6.02 = 4.573504\n",
      "steepness for 9.45 = 6.803004\n",
      "steepness for 19.59 = 13.394004\n",
      "steepness for 12.62 = 8.863503999999999\n",
      "0 6.0\n",
      "benefit 1.595430719999998\n",
      "penalty 0.0\n",
      "1 8.0\n",
      "benefit 0\n",
      "penalty 20.726233920000002\n",
      "2 7.0\n",
      "benefit 0\n",
      "penalty 10.159080320000001\n",
      "3 6.0\n",
      "benefit 1.595430719999998\n",
      "penalty 0.0\n",
      "4 6.0\n",
      "benefit 1.595430719999998\n",
      "penalty 0.0\n"
     ]
    }
   ],
   "source": [
    "import adaptive_fractionation_overlap as af\n",
    "intercept = -0.660504\n",
    "slope = -0.65\n",
    "for overlap in np.array([9.08,19.79,6.02,9.45,19.59,12.62]):\n",
    "    steepness = np.abs(intercept + slope * overlap)\n",
    "    print('steepness for', overlap, '=', steepness)\n",
    "doses, accum, penalty  = af.adaptfx_full(volumes = np.array([9.08,19.79,6.02,9.45,19.59,12.62]), number_of_fractions= 5, min_dose = 6, max_dose = 10, mean_dose = 6.6, dose_steps=0.5)\n"
   ]
  },
  {
   "cell_type": "code",
   "execution_count": null,
   "metadata": {},
   "outputs": [],
   "source": [
    "def calculate_uniform_penalties(dose, overlaps, min_dose = 6):\n",
    "    penalties = []\n",
    "    for overlap in overlaps:\n",
    "        steepness = np.abs(intercept + slope * overlap)\n",
    "        penalty = af.penalty_calc_single(dose, min_dose, mean_dose, volumes[-number_of_fractions+index], steepness)\n",
    "        penalties.append(penalty)\n",
    "    return np.array(penalties)"
   ]
  }
 ],
 "metadata": {
  "kernelspec": {
   "display_name": "Python 3",
   "language": "python",
   "name": "python3"
  },
  "language_info": {
   "codemirror_mode": {
    "name": "ipython",
    "version": 3
   },
   "file_extension": ".py",
   "mimetype": "text/x-python",
   "name": "python",
   "nbconvert_exporter": "python",
   "pygments_lexer": "ipython3",
   "version": "3.11.9"
  }
 },
 "nbformat": 4,
 "nbformat_minor": 2
}
